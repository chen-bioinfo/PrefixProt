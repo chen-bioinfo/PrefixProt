{
 "cells": [
  {
   "cell_type": "code",
   "execution_count": 2,
   "metadata": {},
   "outputs": [],
   "source": [
    "import os\n",
    "dir_path = os.getcwd()\n",
    "pdb_dir_path = dir_path + '/Allalpha/1.2-relax_pdb/finetune/'\n",
    "pdb_list = os.listdir(pdb_dir_path)\n",
    "\n",
    "pdb_path_list = [pdb_dir_path + pdb_name for pdb_name in pdb_list]"
   ]
  },
  {
   "cell_type": "code",
   "execution_count": 3,
   "metadata": {},
   "outputs": [],
   "source": [
    "from RamachanDraw import fetch, phi_psi, plot\n",
    "\n",
    "# Drawing the Ramachandran plot\n",
    "plot(pdb_path_list)\n",
    "\n",
    "# Generating a dictionary to store the phi and psi angles\n",
    "# And returning the ignored aminoacid residues\n",
    "# phi_psi_dict, ignored_res = phi_psi(fetch(PDB_id), return_ignored=True)"
   ]
  }
 ],
 "metadata": {
  "kernelspec": {
   "display_name": "esmfold",
   "language": "python",
   "name": "python3"
  },
  "language_info": {
   "codemirror_mode": {
    "name": "ipython",
    "version": 3
   },
   "file_extension": ".py",
   "mimetype": "text/x-python",
   "name": "python",
   "nbconvert_exporter": "python",
   "pygments_lexer": "ipython3",
   "version": "3.8.17"
  },
  "orig_nbformat": 4
 },
 "nbformat": 4,
 "nbformat_minor": 2
}
