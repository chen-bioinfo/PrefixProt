{
 "cells": [
  {
   "cell_type": "code",
   "execution_count": 2,
   "metadata": {},
   "outputs": [],
   "source": [
    "import pandas as pd\n",
    "import os\n",
    "data_dir_path = os.getcwd()\n",
    "data_path = data_dir_path + '/DAASP_RNN_dataset.csv'\n",
    "\n",
    "df = pd.read_csv(data_path)\n",
    "amp_df = df[df['activity'] == 1]\n",
    "amp_df = amp_df.loc[:,['ID', 'Name', 'Sequence', 'activity']]\n",
    "max_len = max([len(amp_df.iloc[i]['Sequence']) for i in range(len(amp_df))])\n",
    "amp_df.to_csv(data_dir_path + '/amp.csv')"
   ]
  },
  {
   "attachments": {},
   "cell_type": "markdown",
   "metadata": {},
   "source": [
    "# Construct finetune dataset"
   ]
  },
  {
   "cell_type": "code",
   "execution_count": 6,
   "metadata": {},
   "outputs": [
    {
     "name": "stdout",
     "output_type": "stream",
     "text": [
      "4774\n",
      "4505\n"
     ]
    }
   ],
   "source": [
    "import pandas as pd\n",
    "import os\n",
    "data_dir_path = os.getcwd()\n",
    "\n",
    "data_path = data_dir_path + '/DAASP_RNN_dataset.csv'\n",
    "df = pd.read_csv(data_path)\n",
    "amp_df = df[df['activity'] == 1]\n",
    "max_len = max([len(amp_df.iloc[i]['Sequence']) for i in range(len(amp_df))])\n",
    "\n",
    "with open(data_dir_path +'/amp_finetunexxx.txt', 'w') as f:\n",
    "    special_token = '<|endoftext|>'\n",
    "    seq_set = set()\n",
    "    print(len(amp_df))\n",
    "    for i in range(len(amp_df)):\n",
    "        seq = amp_df.iloc[i]['Sequence'].upper()\n",
    "        seq_set.add(seq)\n",
    "    print(len(seq_set))\n",
    "    for seq in seq_set:\n",
    "        f.write(seq + '\\n')"
   ]
  },
  {
   "attachments": {},
   "cell_type": "markdown",
   "metadata": {},
   "source": [
    "## Divide the sequence dataset into test set and training set"
   ]
  },
  {
   "cell_type": "code",
   "execution_count": 3,
   "metadata": {},
   "outputs": [
    {
     "name": "stdout",
     "output_type": "stream",
     "text": [
      "3604 901 4505\n"
     ]
    }
   ],
   "source": [
    "import pandas as pd\n",
    "from sklearn.model_selection import train_test_split\n",
    "import os\n",
    "data_dir_path = os.getcwd()\n",
    "\n",
    "with open(data_dir_path + '/amp_finetune.txt') as f:\n",
    "    amp_list = list()\n",
    "    for row in f.readlines():\n",
    "        amp_list.append(row[:-1])\n",
    "    df = pd.DataFrame(amp_list,columns=['Sequence'])\n",
    "    x = df.iloc[:,:]\n",
    "    y = [0 for i in range(len(x))]\n",
    "\n",
    "    X_train, X_test, y_train, y_test = train_test_split(x, y, test_size=0.2, random_state=42)\n",
    "    print(len(X_train),len(X_test), len(X_train)+len(X_test))\n",
    "    X_train.to_csv(data_dir_path + '/train_amp.csv', encoding='utf-8')\n",
    "    X_test.to_csv(data_dir_path + '/test_amp.csv', encoding='utf-8')"
   ]
  },
  {
   "cell_type": "markdown",
   "metadata": {},
   "source": [
    "## Define datasets for low-data scenarios"
   ]
  },
  {
   "cell_type": "code",
   "execution_count": 1,
   "metadata": {},
   "outputs": [],
   "source": [
    "import pandas as pd\n",
    "import os\n",
    "data_dir_path = os.getcwd()\n",
    "train_amp_df = pd.read_csv(data_dir_path + '/train_amp.csv')\n",
    "\n",
    "sample_num = 2000\n",
    "sampled_data = train_amp_df.sample(n=sample_num, random_state=42)   # 50 100 200 500 1000 2000 3000\n",
    "sampled_data.to_csv(data_dir_path + f'/train_amp{sample_num}.csv', index=False)"
   ]
  },
  {
   "cell_type": "markdown",
   "metadata": {},
   "source": [
    "## Generate sequences exhibiting amino acid compositions in accordance with the distribution observed in the training sequence"
   ]
  },
  {
   "cell_type": "code",
   "execution_count": 7,
   "metadata": {},
   "outputs": [],
   "source": [
    "# Statistically analyze the amino acid distribution within the AMP training dataset.\n",
    "import pandas as pd\n",
    "import os\n",
    "data_dir_path = os.getcwd()\n",
    "\n",
    "alpha_data_path = data_dir_path + '/test_amp.csv'\n",
    "alpha_df = pd.read_csv(alpha_data_path)\n",
    "seq_list = [alpha_df.iloc[i]['Sequence'] for i in range(len(alpha_df))]\n",
    "len_list = [len(seq) for seq in seq_list]\n",
    "\n",
    "amino_acids = ['A', 'R', 'N', 'D', 'C', 'E', 'Q', 'G', 'H', 'I', 'L', 'K', 'M', 'F', 'P', 'S', 'T', 'W', 'Y', 'V']\n",
    "amino_acids_count = {'A':0, 'R':0, 'N':0, 'D':0, 'C':0, 'E':0, 'Q':0, 'G':0, 'H':0, 'I':0, 'L':0, 'K':0, 'M':0, 'F':0, 'P':0, 'S':0, 'T':0, 'W':0, 'Y':0, 'V':0}\n",
    "amino_acids_rate = {'A':0, 'R':0, 'N':0, 'D':0, 'C':0, 'E':0, 'Q':0, 'G':0, 'H':0, 'I':0, 'L':0, 'K':0, 'M':0, 'F':0, 'P':0, 'S':0, 'T':0, 'W':0, 'Y':0, 'V':0}\n",
    "for seq in seq_list:\n",
    "    for aa in seq:\n",
    "        if aa not in amino_acids:\n",
    "            continue\n",
    "        amino_acids_count[aa] += 1\n",
    "for aa in amino_acids_count.keys():\n",
    "    amino_acids_rate[aa]  = amino_acids_count[aa] / sum(list(amino_acids_count.values()))"
   ]
  },
  {
   "cell_type": "code",
   "execution_count": 2,
   "metadata": {},
   "outputs": [],
   "source": [
    "import random\n",
    "import numpy as np\n",
    "import os\n",
    "data_dir_path = os.getcwd()\n",
    "\n",
    "amino_acids = ['A', 'R', 'N', 'D', 'C', 'E', 'Q', 'G', 'H', 'I', 'L', 'K', 'M', 'F', 'P', 'S', 'T', 'W', 'Y', 'V']\n",
    "amino_acid_distribution = list(amino_acids_rate.values())\n",
    "\n",
    "seq_num = 1000\n",
    "random_seq_list = list()\n",
    "for i in range(seq_num):\n",
    "    sequence_length = random.randint(10, 60)\n",
    "    random_sequence = random.choices(amino_acids, weights=amino_acid_distribution, k=sequence_length)\n",
    "    random_sequence = ''.join(random_sequence)\n",
    "    random_seq_list.append(random_sequence)\n",
    "np.save(data_dir_path + '/random_seq_list.npy', random_seq_list)"
   ]
  }
 ],
 "metadata": {
  "kernelspec": {
   "display_name": "prefix",
   "language": "python",
   "name": "python3"
  },
  "language_info": {
   "codemirror_mode": {
    "name": "ipython",
    "version": 3
   },
   "file_extension": ".py",
   "mimetype": "text/x-python",
   "name": "python",
   "nbconvert_exporter": "python",
   "pygments_lexer": "ipython3",
   "version": "3.8.13"
  },
  "orig_nbformat": 4
 },
 "nbformat": 4,
 "nbformat_minor": 2
}
